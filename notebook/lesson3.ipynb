{
 "cells": [
  {
   "cell_type": "code",
   "execution_count": 1,
   "metadata": {
    "dotnet_interactive": {
     "language": "javascript"
    },
    "polyglot_notebook": {
     "kernelName": "javascript"
    },
    "vscode": {
     "languageId": "polyglot-notebook"
    }
   },
   "outputs": [
    {
     "data": {
      "text/plain": [
       "9007199254740992"
      ]
     },
     "metadata": {},
     "output_type": "display_data"
    },
    {
     "data": {
      "text/plain": [
       "1"
      ]
     },
     "metadata": {},
     "output_type": "display_data"
    },
    {
     "data": {
      "text/plain": [
       "3"
      ]
     },
     "metadata": {},
     "output_type": "display_data"
    },
    {
     "data": {
      "text/plain": [
       "5"
      ]
     },
     "metadata": {},
     "output_type": "display_data"
    }
   ],
   "source": [
    "console.log(Math.pow(2,53))// 次方\n",
    "console.log(Math.round(.6))// 4捨5入\n",
    "console.log(Math.floor(3.9))// 無條捨去\n",
    "console.log(Math.ceil(4.1)) // 無條件進位\n",
    "//javascript math\n",
    "//https://developer.mozilla.org/zh-TW/docs/Web/JavaScript/Reference/Global_Objects/Math"
   ]
  },
  {
   "cell_type": "code",
   "execution_count": 5,
   "metadata": {
    "dotnet_interactive": {
     "language": "javascript"
    },
    "polyglot_notebook": {
     "kernelName": "javascript"
    },
    "vscode": {
     "languageId": "polyglot-notebook"
    }
   },
   "outputs": [
    {
     "data": {
      "application/json": [
       1,
       3,
       5,
       7,
       9
      ]
     },
     "metadata": {},
     "output_type": "display_data"
    },
    {
     "data": {
      "text/plain": [
       "1"
      ]
     },
     "metadata": {},
     "output_type": "display_data"
    },
    {
     "data": {
      "application/json": [
       [
        1,
        2,
        3
       ],
       [
        4,
        5,
        6
       ],
       [
        7,
        8,
        9
       ]
      ]
     },
     "metadata": {},
     "output_type": "display_data"
    },
    {
     "data": {
      "application/json": [
       1,
       2,
       3
      ]
     },
     "metadata": {},
     "output_type": "display_data"
    },
    {
     "data": {
      "text/plain": [
       "1"
      ]
     },
     "metadata": {},
     "output_type": "display_data"
    }
   ],
   "source": [
    "//建立Array\n",
    "array1=[1,3,5,7,9]\n",
    "console.log(array1)\n",
    "console.log(array1[0])\n",
    "\n",
    "//建立2維(matrix)Array\n",
    "array2=[[1,2,3],[4,5,6],[7,8,9]]\n",
    "console.log(array2)\n",
    "console.log(array2[0])\n",
    "console.log(array2[0][0])\n",
    "\n"
   ]
  },
  {
   "cell_type": "code",
   "execution_count": 6,
   "metadata": {
    "dotnet_interactive": {
     "language": "javascript"
    },
    "polyglot_notebook": {
     "kernelName": "javascript"
    },
    "vscode": {
     "languageId": "polyglot-notebook"
    }
   },
   "outputs": [
    {
     "data": {
      "text/plain": [
       "3.3"
      ]
     },
     "metadata": {},
     "output_type": "display_data"
    },
    {
     "data": {
      "text/plain": [
       "3.3"
      ]
     },
     "metadata": {},
     "output_type": "display_data"
    },
    {
     "data": {
      "text/plain": [
       "-1.9"
      ]
     },
     "metadata": {},
     "output_type": "display_data"
    },
    {
     "data": {
      "text/plain": [
       "-1.9"
      ]
     },
     "metadata": {},
     "output_type": "display_data"
    }
   ],
   "source": [
    "//物件\n",
    "\n",
    "let p = {x:3.3,y:-1.9}\n",
    "console.log(p['x'])//取字串\n",
    "console.log(p.x)//取值\n",
    "console.log(p['y'])\n",
    "console.log(p.y)"
   ]
  },
  {
   "cell_type": "code",
   "execution_count": 7,
   "metadata": {
    "dotnet_interactive": {
     "language": "javascript"
    },
    "polyglot_notebook": {
     "kernelName": "javascript"
    },
    "vscode": {
     "languageId": "polyglot-notebook"
    }
   },
   "outputs": [
    {
     "data": {
      "text/plain": [
       "javascript"
      ]
     },
     "metadata": {},
     "output_type": "display_data"
    },
    {
     "data": {
      "text/plain": [
       "The Definitive Guide"
      ]
     },
     "metadata": {},
     "output_type": "display_data"
    },
    {
     "data": {
      "text/plain": [
       "all audiences"
      ]
     },
     "metadata": {},
     "output_type": "display_data"
    },
    {
     "data": {
      "application/json": {
       "firstname": "David",
       "username": "Flanagan"
      }
     },
     "metadata": {},
     "output_type": "display_data"
    },
    {
     "data": {
      "text/plain": [
       "David"
      ]
     },
     "metadata": {},
     "output_type": "display_data"
    },
    {
     "data": {
      "text/plain": [
       "Flanagan"
      ]
     },
     "metadata": {},
     "output_type": "display_data"
    }
   ],
   "source": [
    "//符號建立 object\n",
    "var book= {\n",
    "    'main title':\"javascript\",\n",
    "    'sub-title':\"The Definitive Guide\",\n",
    "    for:\"all audiences\",\n",
    "    author:{\n",
    "        firstname:\"David\",\n",
    "        username:\"Flanagan\"\n",
    "    }\n",
    "}\n",
    "console.log(book['main title'])\n",
    "console.log(book['sub-title'])\n",
    "console.log(book.for)\n",
    "console.log(book.author)\n",
    "console.log(book.author.firstname)\n",
    "console.log(book.author.username)"
   ]
  },
  {
   "cell_type": "code",
   "execution_count": 8,
   "metadata": {
    "dotnet_interactive": {
     "language": "javascript"
    },
    "polyglot_notebook": {
     "kernelName": "javascript"
    },
    "vscode": {
     "languageId": "polyglot-notebook"
    }
   },
   "outputs": [
    {
     "data": {
      "text/plain": [
       "David"
      ]
     },
     "metadata": {},
     "output_type": "display_data"
    }
   ],
   "source": [
    "//使用new建立物件\n",
    "var book = new Object()\n",
    "book['main title'] = \"javascript\"\n",
    "book.author = new Object()\n",
    "book.author.firstname = \"David\"\n",
    "book.author.username = \"Flanagan\"\n",
    "\n",
    "console.log(book.author.firstname)"
   ]
  }
 ],
 "metadata": {
  "language_info": {
   "name": "python"
  },
  "orig_nbformat": 4
 },
 "nbformat": 4,
 "nbformat_minor": 2
}
